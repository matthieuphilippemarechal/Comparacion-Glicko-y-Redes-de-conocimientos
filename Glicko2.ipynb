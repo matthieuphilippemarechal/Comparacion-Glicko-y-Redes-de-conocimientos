{
 "cells": [
  {
   "cell_type": "code",
   "execution_count": 2,
   "id": "a3a55eed",
   "metadata": {},
   "outputs": [],
   "source": [
    "import numpy as np\n",
    "import pandas as pd\n",
    "from math import log\n",
    "\n",
    "g = lambda RD,q : 1 / np.sqrt(1 + 3 * q ** 2 * RD ** 2 / np.pi ** 2)"
   ]
  },
  {
   "cell_type": "code",
   "execution_count": 84,
   "id": "c22a212c",
   "metadata": {},
   "outputs": [],
   "source": [
    "class Glicko2:\n",
    "    \n",
    "    def __init__(self,n_students,n_questions,c=63.2,q=log(10)/400,true_level = [None] , true_dificulty = [None] , \\\n",
    "                P_true = np.array([None])):\n",
    "        \n",
    "\n",
    "        self.c = c\n",
    "        self.n_students = n_students\n",
    "        self.n_questions = n_questions\n",
    "        self.r_students = 1500 * np.ones(n_students)\n",
    "        \n",
    "  \n",
    "        self.r_questions = 1500 * np.ones(n_questions)\n",
    "        self.RD_students = 350 * np.ones(n_students)\n",
    "        self.RD_questions = 350 * np.ones(n_questions)\n",
    "        self.q = q\n",
    "           \n",
    "        if None in P_true:    \n",
    "            \n",
    "           if None in true_dificulty:\n",
    "              self.true_dificulty = np.random.rand(n_questions)\n",
    "           else:\n",
    "              self.true_dificulty = true_dificulty\n",
    "        \n",
    "           if None in true_level:\n",
    "              self.true_level = np.random.rand(n_students)\n",
    "           else:    \n",
    "              self.true_level = true_level\n",
    "           \n",
    "           self.P_true = (1/(1+np.exp(-(self.true_level.reshape((-1,1))-self.true_dificulty.reshape((1,-1))))))\n",
    "\n",
    "        else:\n",
    "            \n",
    "           self.P_true = P_true\n",
    "        \n",
    "        \n",
    "        self.all_questions_answered = {i:[] for i in range(self.n_students)}\n",
    "\n",
    "        \n",
    "    def answer_question(self,students=\"all\", periods = 0):\n",
    "        \n",
    "        if students == \"all\":\n",
    "          \n",
    "           students = list(range(self.n_students))\n",
    "            \n",
    "        self.RD_students = np.min([np.sqrt(self.RD_students.reshape((1,-1))**2\\\n",
    "                        +periods * self.c**2),350 * np.ones((1,self.n_students))],axis = 0)   \n",
    "        self.P_est = 1/(1+10**(-g(np.sqrt(self.RD_students.reshape((-1,1))**2 + \\\n",
    "                                     self.RD_questions.reshape((1,-1))**2),self.q)\\\n",
    "                               *(self.r_students.reshape((-1,1))\\\n",
    "                                                                   -self.r_questions.reshape((1,-1)))/400))\n",
    "        \n",
    "        noise = np.random.randn(self.P_est.shape[0],self.P_est.shape[1])\n",
    "        self.questions_answered = {i:np.abs(self.P_est -0.5 + 0.05 * noise)\\\n",
    "        .argmin(axis = 1)[i] for i in students}\n",
    "        \n",
    "        \n",
    "        s = (np.random.rand(self.n_students,1) < \\\n",
    "np.array([self.P_true[i,self.questions_answered[i]] for i in range(self.n_students)]).reshape((-1,1))).astype(int)\n",
    "        \n",
    "        for i in students:\n",
    "            j = self.questions_answered[i]\n",
    "            E_student = 1 / (1 + 10 ** (-g(self.RD_questions[j],self.q)*(self.r_students[i] * self.r_questions[j])/400))\n",
    "            d_student = (self.q ** 2 * g(self.RD_questions[i],self.q) ** 2 * E_student * (1- E_student))**(-1)\n",
    "            self.r_students[i] += (self.q / (1 / self.RD_students[i]**2 + 1 / d_student ** 2)) * (s[i] - E_student)\n",
    "            self.r_students[0] = 1500\n",
    "            \n",
    "            E_question = 1 / (1 + 10 ** (-g(self.RD_students[i],self.q)*(self.r_students[i] - self.r_questions[j])/400))\n",
    "            d_question = (self.q ** 2 * g(self.RD_students[i],self.q) ** 2  * E_question * (1- E_question))**(-1)\n",
    "            self.r_questions[j] += (self.q / (1 / self.RD_questions[j]**2 + 1 / d_question ** 2)) * (1-s[i] - E_question)\n",
    "            \n",
    "            self.all_questions_answered[i].append((j,int(s[i])))\n",
    "            self.RD_students[i] = np.sqrt((1/d_student**2 + 1 / self.RD_students[i]**2)**(-1))\n",
    "            self.RD_questions[j] = np.sqrt((1/d_question**2 + 1 / self.RD_questions[j]**2)**(-1))\n",
    "        \n",
    "            \n",
    "            \n",
    "            \n",
    "        \n",
    "        "
   ]
  },
  {
   "cell_type": "code",
   "execution_count": 85,
   "id": "9626187a",
   "metadata": {},
   "outputs": [],
   "source": [
    "from Knowledge_learning_space_module import knowledge_learning_space"
   ]
  },
  {
   "cell_type": "code",
   "execution_count": 86,
   "id": "d3da6171",
   "metadata": {},
   "outputs": [],
   "source": [
    "Q = ['a' , 'b' , 'c' , 'd' , 'e']\n",
    "K_mathcal = [[],['a'],['b'],['a','b'],['b','d'],['a','b','c'],['a','b','d'],['b','c','d'],['a','b','c','d'],Q]\n",
    "K0 = ['b','d']\n",
    "beta_q = {'b' : 0.3 ,'d' : 0.3}\n",
    "\n",
    "QxR = []\n",
    "\n",
    "for q in Q:\n",
    "    for r in [0,1]:\n",
    "        QxR.append((q,r))\n",
    "\n",
    "Xi = {x : 4.0 for x in QxR}\n",
    "\n",
    "initial_prob = []\n",
    "S = 0\n",
    "for K in K_mathcal[:-1]:\n",
    "    p = (1 - S) * np.random.rand()\n",
    "    S += p\n",
    "    initial_prob.append(p)\n",
    "initial_prob.append(1-S)"
   ]
  },
  {
   "cell_type": "code",
   "execution_count": 129,
   "id": "6f17d91a",
   "metadata": {},
   "outputs": [],
   "source": [
    "glicko = Glicko2(n_questions = 5,n_students = 1,P_true = np.array([[0,0.8,0,0.8,0]]))\n",
    "knowledge_network = knowledge_learning_space(Q = Q,K_mathcal = K_mathcal,Xi = Xi,K0 = K0,beta_q = beta_q)"
   ]
  },
  {
   "cell_type": "code",
   "execution_count": 130,
   "id": "5f8fcc4c",
   "metadata": {},
   "outputs": [
    {
     "name": "stderr",
     "output_type": "stream",
     "text": [
      "C:\\Users\\matthieu.marechal\\AppData\\Local\\Temp\\ipykernel_26576\\2488299962.py:66: RuntimeWarning: divide by zero encountered in double_scalars\n",
      "  d_student = (self.q ** 2 * g(self.RD_questions[i],self.q) ** 2 * E_student * (1- E_student))**(-1)\n"
     ]
    }
   ],
   "source": [
    "prob_items_glicko = []\n",
    "prob_items_KN = []\n",
    "\n",
    "for n in range(20):\n",
    "    glicko.answer_question()\n",
    "    knowledge_network.simulation()\n",
    "    prob_items_glicko.append(list(glicko.P_est[0]))\n",
    "    prob_items_KN.append(list(knowledge_network.prob_distribution_items.values()))"
   ]
  },
  {
   "cell_type": "code",
   "execution_count": 131,
   "id": "f46c8816",
   "metadata": {},
   "outputs": [
    {
     "data": {
      "text/plain": [
       "{0: [(3, 1),\n",
       "  (1, 1),\n",
       "  (0, 0),\n",
       "  (4, 0),\n",
       "  (2, 0),\n",
       "  (1, 0),\n",
       "  (1, 1),\n",
       "  (3, 1),\n",
       "  (2, 0),\n",
       "  (0, 0),\n",
       "  (4, 0),\n",
       "  (1, 1),\n",
       "  (2, 0),\n",
       "  (3, 1),\n",
       "  (4, 0),\n",
       "  (0, 0),\n",
       "  (0, 0),\n",
       "  (1, 0),\n",
       "  (1, 1),\n",
       "  (0, 0)]}"
      ]
     },
     "execution_count": 131,
     "metadata": {},
     "output_type": "execute_result"
    }
   ],
   "source": [
    "glicko.all_questions_answered"
   ]
  },
  {
   "cell_type": "code",
   "execution_count": 132,
   "id": "2d54c5dd",
   "metadata": {},
   "outputs": [
    {
     "data": {
      "text/plain": [
       "items respondidos\n",
       "1                    6\n",
       "0                    5\n",
       "2                    3\n",
       "3                    3\n",
       "4                    3\n",
       "dtype: int64"
      ]
     },
     "execution_count": 132,
     "metadata": {},
     "output_type": "execute_result"
    }
   ],
   "source": [
    "pd.DataFrame({\"items respondidos\":[x[0] for x in glicko.all_questions_answered[0]]}).value_counts()"
   ]
  },
  {
   "cell_type": "code",
   "execution_count": 133,
   "id": "2f08ea65",
   "metadata": {},
   "outputs": [],
   "source": [
    "columns = [f'{q}-Glicko' for q in Q] + [f'{q}-NK' for q in Q]\n",
    "\n",
    "\n",
    "df = pd.DataFrame(data=np.concatenate([np.array(prob_items_glicko),np.array(prob_items_KN)],axis = 1),\n",
    "            columns = columns)"
   ]
  },
  {
   "cell_type": "code",
   "execution_count": 134,
   "id": "03022c88",
   "metadata": {},
   "outputs": [
    {
     "data": {
      "text/html": [
       "<div>\n",
       "<style scoped>\n",
       "    .dataframe tbody tr th:only-of-type {\n",
       "        vertical-align: middle;\n",
       "    }\n",
       "\n",
       "    .dataframe tbody tr th {\n",
       "        vertical-align: top;\n",
       "    }\n",
       "\n",
       "    .dataframe thead th {\n",
       "        text-align: right;\n",
       "    }\n",
       "</style>\n",
       "<table border=\"1\" class=\"dataframe\">\n",
       "  <thead>\n",
       "    <tr style=\"text-align: right;\">\n",
       "      <th></th>\n",
       "      <th>a-Glicko</th>\n",
       "      <th>b-Glicko</th>\n",
       "      <th>c-Glicko</th>\n",
       "      <th>d-Glicko</th>\n",
       "      <th>e-Glicko</th>\n",
       "      <th>a-NK</th>\n",
       "      <th>b-NK</th>\n",
       "      <th>c-NK</th>\n",
       "      <th>d-NK</th>\n",
       "      <th>e-NK</th>\n",
       "    </tr>\n",
       "  </thead>\n",
       "  <tbody>\n",
       "    <tr>\n",
       "      <th>0</th>\n",
       "      <td>0.500000</td>\n",
       "      <td>0.500000</td>\n",
       "      <td>0.500000</td>\n",
       "      <td>0.500000</td>\n",
       "      <td>0.500000</td>\n",
       "      <td>0.600000</td>\n",
       "      <td>0.920000</td>\n",
       "      <td>0.520000</td>\n",
       "      <td>0.800000</td>\n",
       "      <td>1.600000e-01</td>\n",
       "    </tr>\n",
       "    <tr>\n",
       "      <th>1</th>\n",
       "      <td>0.500000</td>\n",
       "      <td>0.500000</td>\n",
       "      <td>0.500000</td>\n",
       "      <td>0.748366</td>\n",
       "      <td>0.500000</td>\n",
       "      <td>0.540984</td>\n",
       "      <td>0.868852</td>\n",
       "      <td>0.213115</td>\n",
       "      <td>0.721311</td>\n",
       "      <td>6.557377e-02</td>\n",
       "    </tr>\n",
       "    <tr>\n",
       "      <th>2</th>\n",
       "      <td>0.500000</td>\n",
       "      <td>0.748366</td>\n",
       "      <td>0.500000</td>\n",
       "      <td>0.748366</td>\n",
       "      <td>0.500000</td>\n",
       "      <td>0.227586</td>\n",
       "      <td>0.862069</td>\n",
       "      <td>0.172414</td>\n",
       "      <td>0.717241</td>\n",
       "      <td>2.758621e-02</td>\n",
       "    </tr>\n",
       "    <tr>\n",
       "      <th>3</th>\n",
       "      <td>0.251634</td>\n",
       "      <td>0.748366</td>\n",
       "      <td>0.500000</td>\n",
       "      <td>0.748366</td>\n",
       "      <td>0.500000</td>\n",
       "      <td>0.229759</td>\n",
       "      <td>0.956236</td>\n",
       "      <td>0.212254</td>\n",
       "      <td>0.910284</td>\n",
       "      <td>3.501094e-02</td>\n",
       "    </tr>\n",
       "    <tr>\n",
       "      <th>4</th>\n",
       "      <td>0.251634</td>\n",
       "      <td>0.748366</td>\n",
       "      <td>0.500000</td>\n",
       "      <td>0.748366</td>\n",
       "      <td>0.251634</td>\n",
       "      <td>0.069399</td>\n",
       "      <td>0.955056</td>\n",
       "      <td>0.191011</td>\n",
       "      <td>0.909451</td>\n",
       "      <td>1.057502e-02</td>\n",
       "    </tr>\n",
       "    <tr>\n",
       "      <th>5</th>\n",
       "      <td>0.251634</td>\n",
       "      <td>0.748366</td>\n",
       "      <td>0.251634</td>\n",
       "      <td>0.748366</td>\n",
       "      <td>0.251634</td>\n",
       "      <td>0.061909</td>\n",
       "      <td>0.947541</td>\n",
       "      <td>0.055738</td>\n",
       "      <td>0.894889</td>\n",
       "      <td>3.085824e-03</td>\n",
       "    </tr>\n",
       "    <tr>\n",
       "      <th>6</th>\n",
       "      <td>0.251634</td>\n",
       "      <td>0.655654</td>\n",
       "      <td>0.251634</td>\n",
       "      <td>0.748366</td>\n",
       "      <td>0.251634</td>\n",
       "      <td>0.062026</td>\n",
       "      <td>0.985763</td>\n",
       "      <td>0.060351</td>\n",
       "      <td>0.971473</td>\n",
       "      <td>3.349908e-03</td>\n",
       "    </tr>\n",
       "    <tr>\n",
       "      <th>7</th>\n",
       "      <td>0.251634</td>\n",
       "      <td>0.895586</td>\n",
       "      <td>0.251634</td>\n",
       "      <td>0.748366</td>\n",
       "      <td>0.251634</td>\n",
       "      <td>0.016263</td>\n",
       "      <td>0.985727</td>\n",
       "      <td>0.057984</td>\n",
       "      <td>0.971440</td>\n",
       "      <td>8.783366e-04</td>\n",
       "    </tr>\n",
       "    <tr>\n",
       "      <th>8</th>\n",
       "      <td>0.251634</td>\n",
       "      <td>0.895586</td>\n",
       "      <td>0.251634</td>\n",
       "      <td>0.943950</td>\n",
       "      <td>0.251634</td>\n",
       "      <td>0.015614</td>\n",
       "      <td>0.985078</td>\n",
       "      <td>0.015155</td>\n",
       "      <td>0.970153</td>\n",
       "      <td>2.295676e-04</td>\n",
       "    </tr>\n",
       "    <tr>\n",
       "      <th>9</th>\n",
       "      <td>0.251634</td>\n",
       "      <td>0.895586</td>\n",
       "      <td>0.056050</td>\n",
       "      <td>0.943950</td>\n",
       "      <td>0.251634</td>\n",
       "      <td>0.015617</td>\n",
       "      <td>0.996184</td>\n",
       "      <td>0.015499</td>\n",
       "      <td>0.992367</td>\n",
       "      <td>2.348243e-04</td>\n",
       "    </tr>\n",
       "    <tr>\n",
       "      <th>10</th>\n",
       "      <td>0.056050</td>\n",
       "      <td>0.895586</td>\n",
       "      <td>0.056050</td>\n",
       "      <td>0.943950</td>\n",
       "      <td>0.251634</td>\n",
       "      <td>0.003950</td>\n",
       "      <td>0.996183</td>\n",
       "      <td>0.015326</td>\n",
       "      <td>0.992367</td>\n",
       "      <td>5.940181e-05</td>\n",
       "    </tr>\n",
       "    <tr>\n",
       "      <th>11</th>\n",
       "      <td>0.056050</td>\n",
       "      <td>0.895586</td>\n",
       "      <td>0.056050</td>\n",
       "      <td>0.943950</td>\n",
       "      <td>0.056050</td>\n",
       "      <td>0.003906</td>\n",
       "      <td>0.996139</td>\n",
       "      <td>0.003876</td>\n",
       "      <td>0.992278</td>\n",
       "      <td>1.502313e-05</td>\n",
       "    </tr>\n",
       "    <tr>\n",
       "      <th>12</th>\n",
       "      <td>0.056050</td>\n",
       "      <td>0.985062</td>\n",
       "      <td>0.056050</td>\n",
       "      <td>0.943950</td>\n",
       "      <td>0.056050</td>\n",
       "      <td>0.003906</td>\n",
       "      <td>0.999029</td>\n",
       "      <td>0.003899</td>\n",
       "      <td>0.998058</td>\n",
       "      <td>1.511065e-05</td>\n",
       "    </tr>\n",
       "    <tr>\n",
       "      <th>13</th>\n",
       "      <td>0.056050</td>\n",
       "      <td>0.985062</td>\n",
       "      <td>0.007098</td>\n",
       "      <td>0.943950</td>\n",
       "      <td>0.056050</td>\n",
       "      <td>0.000979</td>\n",
       "      <td>0.999029</td>\n",
       "      <td>0.003887</td>\n",
       "      <td>0.998058</td>\n",
       "      <td>3.788761e-06</td>\n",
       "    </tr>\n",
       "    <tr>\n",
       "      <th>14</th>\n",
       "      <td>0.056050</td>\n",
       "      <td>0.985062</td>\n",
       "      <td>0.007098</td>\n",
       "      <td>0.992902</td>\n",
       "      <td>0.056050</td>\n",
       "      <td>0.000977</td>\n",
       "      <td>0.999026</td>\n",
       "      <td>0.000975</td>\n",
       "      <td>0.998053</td>\n",
       "      <td>9.499599e-07</td>\n",
       "    </tr>\n",
       "    <tr>\n",
       "      <th>15</th>\n",
       "      <td>0.056050</td>\n",
       "      <td>0.985062</td>\n",
       "      <td>0.007098</td>\n",
       "      <td>0.992902</td>\n",
       "      <td>0.007098</td>\n",
       "      <td>0.000977</td>\n",
       "      <td>0.996128</td>\n",
       "      <td>0.000969</td>\n",
       "      <td>0.992256</td>\n",
       "      <td>9.444422e-07</td>\n",
       "    </tr>\n",
       "    <tr>\n",
       "      <th>16</th>\n",
       "      <td>0.007098</td>\n",
       "      <td>0.985062</td>\n",
       "      <td>0.007098</td>\n",
       "      <td>0.992902</td>\n",
       "      <td>0.007098</td>\n",
       "      <td>0.000977</td>\n",
       "      <td>0.984863</td>\n",
       "      <td>0.000947</td>\n",
       "      <td>0.969726</td>\n",
       "      <td>9.229980e-07</td>\n",
       "    </tr>\n",
       "    <tr>\n",
       "      <th>17</th>\n",
       "      <td>0.000811</td>\n",
       "      <td>0.985062</td>\n",
       "      <td>0.007098</td>\n",
       "      <td>0.992902</td>\n",
       "      <td>0.007098</td>\n",
       "      <td>0.000977</td>\n",
       "      <td>0.996128</td>\n",
       "      <td>0.000969</td>\n",
       "      <td>0.992256</td>\n",
       "      <td>9.444422e-07</td>\n",
       "    </tr>\n",
       "    <tr>\n",
       "      <th>18</th>\n",
       "      <td>0.000811</td>\n",
       "      <td>0.984888</td>\n",
       "      <td>0.007098</td>\n",
       "      <td>0.992902</td>\n",
       "      <td>0.007098</td>\n",
       "      <td>0.000977</td>\n",
       "      <td>0.999026</td>\n",
       "      <td>0.000975</td>\n",
       "      <td>0.998053</td>\n",
       "      <td>9.499599e-07</td>\n",
       "    </tr>\n",
       "    <tr>\n",
       "      <th>19</th>\n",
       "      <td>0.000811</td>\n",
       "      <td>0.998248</td>\n",
       "      <td>0.007098</td>\n",
       "      <td>0.992902</td>\n",
       "      <td>0.007098</td>\n",
       "      <td>0.000977</td>\n",
       "      <td>0.996128</td>\n",
       "      <td>0.000969</td>\n",
       "      <td>0.992256</td>\n",
       "      <td>9.444422e-07</td>\n",
       "    </tr>\n",
       "  </tbody>\n",
       "</table>\n",
       "</div>"
      ],
      "text/plain": [
       "    a-Glicko  b-Glicko  c-Glicko  d-Glicko  e-Glicko      a-NK      b-NK  \\\n",
       "0   0.500000  0.500000  0.500000  0.500000  0.500000  0.600000  0.920000   \n",
       "1   0.500000  0.500000  0.500000  0.748366  0.500000  0.540984  0.868852   \n",
       "2   0.500000  0.748366  0.500000  0.748366  0.500000  0.227586  0.862069   \n",
       "3   0.251634  0.748366  0.500000  0.748366  0.500000  0.229759  0.956236   \n",
       "4   0.251634  0.748366  0.500000  0.748366  0.251634  0.069399  0.955056   \n",
       "5   0.251634  0.748366  0.251634  0.748366  0.251634  0.061909  0.947541   \n",
       "6   0.251634  0.655654  0.251634  0.748366  0.251634  0.062026  0.985763   \n",
       "7   0.251634  0.895586  0.251634  0.748366  0.251634  0.016263  0.985727   \n",
       "8   0.251634  0.895586  0.251634  0.943950  0.251634  0.015614  0.985078   \n",
       "9   0.251634  0.895586  0.056050  0.943950  0.251634  0.015617  0.996184   \n",
       "10  0.056050  0.895586  0.056050  0.943950  0.251634  0.003950  0.996183   \n",
       "11  0.056050  0.895586  0.056050  0.943950  0.056050  0.003906  0.996139   \n",
       "12  0.056050  0.985062  0.056050  0.943950  0.056050  0.003906  0.999029   \n",
       "13  0.056050  0.985062  0.007098  0.943950  0.056050  0.000979  0.999029   \n",
       "14  0.056050  0.985062  0.007098  0.992902  0.056050  0.000977  0.999026   \n",
       "15  0.056050  0.985062  0.007098  0.992902  0.007098  0.000977  0.996128   \n",
       "16  0.007098  0.985062  0.007098  0.992902  0.007098  0.000977  0.984863   \n",
       "17  0.000811  0.985062  0.007098  0.992902  0.007098  0.000977  0.996128   \n",
       "18  0.000811  0.984888  0.007098  0.992902  0.007098  0.000977  0.999026   \n",
       "19  0.000811  0.998248  0.007098  0.992902  0.007098  0.000977  0.996128   \n",
       "\n",
       "        c-NK      d-NK          e-NK  \n",
       "0   0.520000  0.800000  1.600000e-01  \n",
       "1   0.213115  0.721311  6.557377e-02  \n",
       "2   0.172414  0.717241  2.758621e-02  \n",
       "3   0.212254  0.910284  3.501094e-02  \n",
       "4   0.191011  0.909451  1.057502e-02  \n",
       "5   0.055738  0.894889  3.085824e-03  \n",
       "6   0.060351  0.971473  3.349908e-03  \n",
       "7   0.057984  0.971440  8.783366e-04  \n",
       "8   0.015155  0.970153  2.295676e-04  \n",
       "9   0.015499  0.992367  2.348243e-04  \n",
       "10  0.015326  0.992367  5.940181e-05  \n",
       "11  0.003876  0.992278  1.502313e-05  \n",
       "12  0.003899  0.998058  1.511065e-05  \n",
       "13  0.003887  0.998058  3.788761e-06  \n",
       "14  0.000975  0.998053  9.499599e-07  \n",
       "15  0.000969  0.992256  9.444422e-07  \n",
       "16  0.000947  0.969726  9.229980e-07  \n",
       "17  0.000969  0.992256  9.444422e-07  \n",
       "18  0.000975  0.998053  9.499599e-07  \n",
       "19  0.000969  0.992256  9.444422e-07  "
      ]
     },
     "execution_count": 134,
     "metadata": {},
     "output_type": "execute_result"
    }
   ],
   "source": [
    "df"
   ]
  },
  {
   "cell_type": "code",
   "execution_count": 135,
   "id": "f19486fc",
   "metadata": {},
   "outputs": [],
   "source": [
    "import matplotlib.pyplot as plt"
   ]
  },
  {
   "cell_type": "code",
   "execution_count": 136,
   "id": "ab5faa14",
   "metadata": {},
   "outputs": [
    {
     "data": {
      "text/plain": [
       "1"
      ]
     },
     "execution_count": 136,
     "metadata": {},
     "output_type": "execute_result"
    }
   ],
   "source": [
    "(len(knowledge_network.Q)-1)//5+1"
   ]
  },
  {
   "cell_type": "code",
   "execution_count": 137,
   "id": "d7e3916b",
   "metadata": {},
   "outputs": [
    {
     "name": "stderr",
     "output_type": "stream",
     "text": [
      "C:\\Users\\matthieu.marechal\\AppData\\Local\\Temp\\ipykernel_26576\\2484163676.py:12: UserWarning: Matplotlib is currently using module://matplotlib_inline.backend_inline, which is a non-GUI backend, so cannot show the figure.\n",
      "  fig.show()\n"
     ]
    },
    {
     "data": {
      "image/png": "[encoded data removed]",
      "text/plain": [
       "<Figure size 1080x360 with 5 Axes>"
      ]
     },
     "metadata": {
      "needs_background": "light"
     },
     "output_type": "display_data"
    }
   ],
   "source": [
    "fig, ax = plt.subplots((len(knowledge_network.Q)-1)//5+1, 5, figsize=(15, 5))\n",
    "\n",
    "for k,q in enumerate(knowledge_network.Q):\n",
    "    \n",
    "    if len(knowledge_network.Q) <= 5:\n",
    "       ax[k].plot(df.index,df[f'{q}-Glicko'])\n",
    "       ax[k].plot(df.index,df[f'{q}-NK'],color = \"r\")\n",
    "    else:\n",
    "       ax[(k-1)//5+1,k%5].plot(df.index,df[f'{q}-Glicko'])\n",
    "       ax[(k-1)//5+1,k%5].plot(df.index,df[f'{q}-NK'],color = \"r\")\n",
    "        \n",
    "fig.show()       \n"
   ]
  },
  {
   "cell_type": "code",
   "execution_count": 138,
   "id": "750f34a6",
   "metadata": {},
   "outputs": [
    {
     "data": {
      "image/png": "[encoded data removed]",
      "text/plain": [
       "<Figure size 432x288 with 1 Axes>"
      ]
     },
     "metadata": {
      "needs_background": "light"
     },
     "output_type": "display_data"
    }
   ],
   "source": [
    "plt.plot(df.index,df[f'a-Glicko'])\n",
    "plt.plot(df.index,df[f'a-NK'],color=\"red\")\n",
    "plt.title(\"Comparación entre Glicko y red de conocimientos para el grupo de ítems a\")\n",
    "plt.show()"
   ]
  },
  {
   "cell_type": "code",
   "execution_count": 139,
   "id": "d9eed483",
   "metadata": {},
   "outputs": [
    {
     "data": {
      "image/png": "[encoded data removed]",
      "text/plain": [
       "<Figure size 432x288 with 1 Axes>"
      ]
     },
     "metadata": {
      "needs_background": "light"
     },
     "output_type": "display_data"
    }
   ],
   "source": [
    "plt.plot(df.index,df[f'b-Glicko'])\n",
    "plt.plot(df.index,df[f'b-NK'],color=\"red\")\n",
    "plt.title(\"Comparación entre Glicko y red de conocimientos para el grupo de ítems b\")\n",
    "plt.show()"
   ]
  },
  {
   "cell_type": "code",
   "execution_count": 140,
   "id": "aa341326",
   "metadata": {},
   "outputs": [
    {
     "data": {
      "image/png": "[encoded data removed]",
      "text/plain": [
       "<Figure size 432x288 with 1 Axes>"
      ]
     },
     "metadata": {
      "needs_background": "light"
     },
     "output_type": "display_data"
    }
   ],
   "source": [
    "plt.plot(df.index,df[f'c-Glicko'])\n",
    "plt.plot(df.index,df[f'c-NK'],color=\"red\")\n",
    "plt.title(\"Comparación entre Glicko y red de conocimientos para el grupo de ítems c\")\n",
    "plt.show()"
   ]
  },
  {
   "cell_type": "code",
   "execution_count": 141,
   "id": "66c730ef",
   "metadata": {},
   "outputs": [
    {
     "data": {
      "image/png": "[encoded data removed]",
      "text/plain": [
       "<Figure size 432x288 with 1 Axes>"
      ]
     },
     "metadata": {
      "needs_background": "light"
     },
     "output_type": "display_data"
    }
   ],
   "source": [
    "plt.plot(df.index,df[f'd-Glicko'])\n",
    "plt.plot(df.index,df[f'd-NK'],color=\"red\")\n",
    "plt.title(\"Comparación entre Glicko y red de conocimientos para el grupo de ítems d\")\n",
    "plt.show()"
   ]
  },
  {
   "cell_type": "code",
   "execution_count": 142,
   "id": "5de99870",
   "metadata": {},
   "outputs": [
    {
     "data": {
      "image/png": "[encoded data removed]",
      "text/plain": [
       "<Figure size 432x288 with 1 Axes>"
      ]
     },
     "metadata": {
      "needs_background": "light"
     },
     "output_type": "display_data"
    }
   ],
   "source": [
    "plt.plot(df.index,df[f'e-Glicko'])\n",
    "plt.plot(df.index,df[f'e-NK'],color=\"red\")\n",
    "plt.title(\"Comparación entre Glicko y red de conocimientos para el grupo de ítems e\")\n",
    "plt.show()"
   ]
  },
  {
   "cell_type": "code",
   "execution_count": null,
   "id": "61da47bf",
   "metadata": {},
   "outputs": [],
   "source": []
  }
 ],
 "metadata": {
  "kernelspec": {
   "display_name": "Python 3 (ipykernel)",
   "language": "python",
   "name": "python3"
  },
  "language_info": {
   "codemirror_mode": {
    "name": "ipython",
    "version": 3
   },
   "file_extension": ".py",
   "mimetype": "text/x-python",
   "name": "python",
   "nbconvert_exporter": "python",
   "pygments_lexer": "ipython3",
   "version": "3.9.12"
  }
 },
 "nbformat": 4,
 "nbformat_minor": 5
}
